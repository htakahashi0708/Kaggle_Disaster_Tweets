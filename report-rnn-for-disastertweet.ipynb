{
 "cells": [
  {
   "cell_type": "markdown",
   "metadata": {},
   "source": [
    "# 1. Project Topic\n",
    "\n",
    "This is the notebook for [Natural Language Processing with Disaster Tweets](https://www.kaggle.com/competitions/nlp-getting-started/overview). The task of this project is to predict whether tweets indicate disaster or not. \n",
    "\n",
    "**Target**\n",
    "\n",
    "The target of this project is to achieve **F1 score > 0.8 by RNN** in Kaggle Score. "
   ]
  },
  {
   "cell_type": "code",
   "execution_count": 3,
   "metadata": {
    "execution": {
     "iopub.execute_input": "2023-05-06T07:57:09.270154Z",
     "iopub.status.busy": "2023-05-06T07:57:09.269026Z",
     "iopub.status.idle": "2023-05-06T07:57:09.276680Z",
     "shell.execute_reply": "2023-05-06T07:57:09.275500Z",
     "shell.execute_reply.started": "2023-05-06T07:57:09.270099Z"
    }
   },
   "outputs": [],
   "source": [
    "import pandas as pd\n",
    "import numpy as np\n",
    "import matplotlib.pyplot as plt\n",
    "import seaborn as sns\n",
    "import nltk\n",
    "from sklearn import metrics\n",
    "import tensorflow as tf\n",
    "from tensorflow.keras import layers\n",
    "from tensorflow.keras import models\n",
    "from tensorflow.keras.initializers import glorot_uniform\n",
    "from sklearn.metrics import f1_score"
   ]
  },
  {
   "cell_type": "markdown",
   "metadata": {},
   "source": [
    "# 2. Data\n",
    "\n",
    "The train data has 7613 samples, and the test data has 3263 samples. Only train data has label `target`. Both train and test data have `text`, `keyword`, and `location`."
   ]
  },
  {
   "cell_type": "markdown",
   "metadata": {},
   "source": [
    "**Data Source**\n",
    "\n",
    "https://www.kaggle.com/competitions/nlp-getting-started/data"
   ]
  },
  {
   "cell_type": "code",
   "execution_count": 4,
   "metadata": {
    "execution": {
     "iopub.execute_input": "2023-05-06T07:57:09.305783Z",
     "iopub.status.busy": "2023-05-06T07:57:09.304467Z",
     "iopub.status.idle": "2023-05-06T07:57:09.378967Z",
     "shell.execute_reply": "2023-05-06T07:57:09.377862Z",
     "shell.execute_reply.started": "2023-05-06T07:57:09.305722Z"
    }
   },
   "outputs": [],
   "source": [
    "train_path = \"/kaggle/input/nlp-getting-started/train.csv\"\n",
    "test_path = \"/kaggle/input/nlp-getting-started/test.csv\"\n",
    "sample_path = \"/kaggle/input/nlp-getting-started/sample_submission.csv\"\n",
    "sample_df = pd.read_csv(sample_path)\n",
    "train_df = pd.read_csv(train_path)\n",
    "test_df = pd.read_csv(test_path)\n",
    "n_train = train_df.shape[0]\n",
    "n_test = test_df.shape[0]"
   ]
  },
  {
   "cell_type": "code",
   "execution_count": 5,
   "metadata": {
    "execution": {
     "iopub.execute_input": "2023-05-06T07:57:09.381102Z",
     "iopub.status.busy": "2023-05-06T07:57:09.380736Z",
     "iopub.status.idle": "2023-05-06T07:57:09.387690Z",
     "shell.execute_reply": "2023-05-06T07:57:09.386264Z",
     "shell.execute_reply.started": "2023-05-06T07:57:09.381067Z"
    }
   },
   "outputs": [
    {
     "name": "stdout",
     "output_type": "stream",
     "text": [
      "train data size (7613, 5)\n",
      "test data size (3263, 4)\n"
     ]
    }
   ],
   "source": [
    "print(\"train data size\", train_df.shape)\n",
    "print(\"test data size\", test_df.shape)"
   ]
  },
  {
   "cell_type": "code",
   "execution_count": 6,
   "metadata": {
    "execution": {
     "iopub.execute_input": "2023-05-06T07:57:09.390124Z",
     "iopub.status.busy": "2023-05-06T07:57:09.389528Z",
     "iopub.status.idle": "2023-05-06T07:57:09.418316Z",
     "shell.execute_reply": "2023-05-06T07:57:09.417221Z",
     "shell.execute_reply.started": "2023-05-06T07:57:09.390085Z"
    }
   },
   "outputs": [
    {
     "data": {
      "text/html": [
       "<div>\n",
       "<style scoped>\n",
       "    .dataframe tbody tr th:only-of-type {\n",
       "        vertical-align: middle;\n",
       "    }\n",
       "\n",
       "    .dataframe tbody tr th {\n",
       "        vertical-align: top;\n",
       "    }\n",
       "\n",
       "    .dataframe thead th {\n",
       "        text-align: right;\n",
       "    }\n",
       "</style>\n",
       "<table border=\"1\" class=\"dataframe\">\n",
       "  <thead>\n",
       "    <tr style=\"text-align: right;\">\n",
       "      <th></th>\n",
       "      <th>id</th>\n",
       "      <th>keyword</th>\n",
       "      <th>location</th>\n",
       "      <th>text</th>\n",
       "      <th>target</th>\n",
       "    </tr>\n",
       "  </thead>\n",
       "  <tbody>\n",
       "    <tr>\n",
       "      <th>0</th>\n",
       "      <td>1</td>\n",
       "      <td>NaN</td>\n",
       "      <td>NaN</td>\n",
       "      <td>Our Deeds are the Reason of this #earthquake M...</td>\n",
       "      <td>1</td>\n",
       "    </tr>\n",
       "    <tr>\n",
       "      <th>1</th>\n",
       "      <td>4</td>\n",
       "      <td>NaN</td>\n",
       "      <td>NaN</td>\n",
       "      <td>Forest fire near La Ronge Sask. Canada</td>\n",
       "      <td>1</td>\n",
       "    </tr>\n",
       "    <tr>\n",
       "      <th>2</th>\n",
       "      <td>5</td>\n",
       "      <td>NaN</td>\n",
       "      <td>NaN</td>\n",
       "      <td>All residents asked to 'shelter in place' are ...</td>\n",
       "      <td>1</td>\n",
       "    </tr>\n",
       "  </tbody>\n",
       "</table>\n",
       "</div>"
      ],
      "text/plain": [
       "   id keyword location                                               text  \\\n",
       "0   1     NaN      NaN  Our Deeds are the Reason of this #earthquake M...   \n",
       "1   4     NaN      NaN             Forest fire near La Ronge Sask. Canada   \n",
       "2   5     NaN      NaN  All residents asked to 'shelter in place' are ...   \n",
       "\n",
       "   target  \n",
       "0       1  \n",
       "1       1  \n",
       "2       1  "
      ]
     },
     "execution_count": 6,
     "metadata": {},
     "output_type": "execute_result"
    }
   ],
   "source": [
    "train_df.head(3)"
   ]
  },
  {
   "cell_type": "code",
   "execution_count": 7,
   "metadata": {
    "execution": {
     "iopub.execute_input": "2023-05-06T07:57:09.423962Z",
     "iopub.status.busy": "2023-05-06T07:57:09.423225Z",
     "iopub.status.idle": "2023-05-06T07:57:09.436433Z",
     "shell.execute_reply": "2023-05-06T07:57:09.434687Z",
     "shell.execute_reply.started": "2023-05-06T07:57:09.423904Z"
    }
   },
   "outputs": [
    {
     "data": {
      "text/html": [
       "<div>\n",
       "<style scoped>\n",
       "    .dataframe tbody tr th:only-of-type {\n",
       "        vertical-align: middle;\n",
       "    }\n",
       "\n",
       "    .dataframe tbody tr th {\n",
       "        vertical-align: top;\n",
       "    }\n",
       "\n",
       "    .dataframe thead th {\n",
       "        text-align: right;\n",
       "    }\n",
       "</style>\n",
       "<table border=\"1\" class=\"dataframe\">\n",
       "  <thead>\n",
       "    <tr style=\"text-align: right;\">\n",
       "      <th></th>\n",
       "      <th>id</th>\n",
       "      <th>keyword</th>\n",
       "      <th>location</th>\n",
       "      <th>text</th>\n",
       "    </tr>\n",
       "  </thead>\n",
       "  <tbody>\n",
       "    <tr>\n",
       "      <th>0</th>\n",
       "      <td>0</td>\n",
       "      <td>NaN</td>\n",
       "      <td>NaN</td>\n",
       "      <td>Just happened a terrible car crash</td>\n",
       "    </tr>\n",
       "    <tr>\n",
       "      <th>1</th>\n",
       "      <td>2</td>\n",
       "      <td>NaN</td>\n",
       "      <td>NaN</td>\n",
       "      <td>Heard about #earthquake is different cities, s...</td>\n",
       "    </tr>\n",
       "    <tr>\n",
       "      <th>2</th>\n",
       "      <td>3</td>\n",
       "      <td>NaN</td>\n",
       "      <td>NaN</td>\n",
       "      <td>there is a forest fire at spot pond, geese are...</td>\n",
       "    </tr>\n",
       "  </tbody>\n",
       "</table>\n",
       "</div>"
      ],
      "text/plain": [
       "   id keyword location                                               text\n",
       "0   0     NaN      NaN                 Just happened a terrible car crash\n",
       "1   2     NaN      NaN  Heard about #earthquake is different cities, s...\n",
       "2   3     NaN      NaN  there is a forest fire at spot pond, geese are..."
      ]
     },
     "execution_count": 7,
     "metadata": {},
     "output_type": "execute_result"
    }
   ],
   "source": [
    "test_df.head(3)"
   ]
  },
  {
   "cell_type": "markdown",
   "metadata": {},
   "source": [
    "# 3. EDA"
   ]
  },
  {
   "cell_type": "markdown",
   "metadata": {},
   "source": [
    "## 3.1 Label\n",
    "\n",
    "This train data is almost balanced (43% positive). "
   ]
  },
  {
   "cell_type": "code",
   "execution_count": 8,
   "metadata": {
    "execution": {
     "iopub.execute_input": "2023-05-06T07:57:09.458745Z",
     "iopub.status.busy": "2023-05-06T07:57:09.458336Z",
     "iopub.status.idle": "2023-05-06T07:57:09.469161Z",
     "shell.execute_reply": "2023-05-06T07:57:09.467744Z",
     "shell.execute_reply.started": "2023-05-06T07:57:09.458710Z"
    }
   },
   "outputs": [
    {
     "name": "stdout",
     "output_type": "stream",
     "text": [
      "43.0 % of label is positive\n"
     ]
    }
   ],
   "source": [
    "print(np.round(train_df[\"target\"].mean(), 2)*100, \"% of label is positive\" )"
   ]
  },
  {
   "cell_type": "code",
   "execution_count": 9,
   "metadata": {
    "execution": {
     "iopub.execute_input": "2023-05-06T07:57:09.497118Z",
     "iopub.status.busy": "2023-05-06T07:57:09.496672Z",
     "iopub.status.idle": "2023-05-06T07:57:09.779525Z",
     "shell.execute_reply": "2023-05-06T07:57:09.778133Z",
     "shell.execute_reply.started": "2023-05-06T07:57:09.497076Z"
    }
   },
   "outputs": [
    {
     "data": {
      "text/plain": [
       "Text(0.5, 1.0, 'Histogram of label')"
      ]
     },
     "execution_count": 9,
     "metadata": {},
     "output_type": "execute_result"
    },
    {
     "data": {
      "image/png": "[encoded data removed]",
      "text/plain": [
       "<Figure size 400x300 with 1 Axes>"
      ]
     },
     "metadata": {},
     "output_type": "display_data"
    }
   ],
   "source": [
    "fig, ax = plt.subplots(figsize = (4, 3))\n",
    "train_df[\"target\"].hist(ax = ax)\n",
    "ax.set_title(\"Histogram of label\")\n"
   ]
  },
  {
   "cell_type": "markdown",
   "metadata": {},
   "source": [
    "## 3.2 Mean positive rate in time\n",
    "\n",
    "Following plot shows moving average of 100 samples. There is periodical trends. "
   ]
  },
  {
   "cell_type": "code",
   "execution_count": 10,
   "metadata": {
    "execution": {
     "iopub.execute_input": "2023-05-06T07:57:09.783625Z",
     "iopub.status.busy": "2023-05-06T07:57:09.782895Z",
     "iopub.status.idle": "2023-05-06T07:57:10.017551Z",
     "shell.execute_reply": "2023-05-06T07:57:10.016193Z",
     "shell.execute_reply.started": "2023-05-06T07:57:09.783572Z"
    }
   },
   "outputs": [
    {
     "data": {
      "text/plain": [
       "<AxesSubplot:>"
      ]
     },
     "execution_count": 10,
     "metadata": {},
     "output_type": "execute_result"
    },
    {
     "data": {
      "image/png": "[encoded data removed]",
      "text/plain": [
       "<Figure size 800x400 with 1 Axes>"
      ]
     },
     "metadata": {},
     "output_type": "display_data"
    }
   ],
   "source": [
    "train_df[\"target\"].rolling(window = 100).mean().plot(figsize = (8,4))"
   ]
  },
  {
   "cell_type": "markdown",
   "metadata": {},
   "source": [
    "## 3.3 Example of positive\n",
    "\n",
    "some positive (disaster) texts are shown below. There are varieties of disaster such as wildfire, heat wave, Annihlation, etc. There are some problems in texts. Spelling is not clean, Symbol and word are connected, a lot of numbers are seen, etc."
   ]
  },
  {
   "cell_type": "code",
   "execution_count": 11,
   "metadata": {
    "execution": {
     "iopub.execute_input": "2023-05-06T07:57:10.019622Z",
     "iopub.status.busy": "2023-05-06T07:57:10.019191Z",
     "iopub.status.idle": "2023-05-06T07:57:10.031744Z",
     "shell.execute_reply": "2023-05-06T07:57:10.030428Z",
     "shell.execute_reply.started": "2023-05-06T07:57:10.019584Z"
    }
   },
   "outputs": [
    {
     "name": "stdout",
     "output_type": "stream",
     "text": [
      "#RockyFire Update => California Hwy. 20 closed in both directions due to Lake County fire - #CAfire #wildfires\n",
      "Three people died from the heat wave so far\n",
      ":StarMade: :Stardate 3: :Planetary Annihilation:: http://t.co/I2hHvIUmTm via @YouTube\n",
      "Real people. True stories. Real pain &amp; suffering. #displaced #RefugeesMatter #Syria  https://t.co/OEZ7O9AB2C\n",
      "#Earthquake #Sismo M 1.9 - 15km E of Anchorage Alaska: Time2015-08-06 00:11:16 UTC2015-08-05 16:11:16 -08:00 ... http://t.co/Z0VeR1hVM9\n"
     ]
    }
   ],
   "source": [
    "pos_idx = train_df[\"target\"] == 1\n",
    "\n",
    "print(train_df[\"text\"].loc[pos_idx].iloc[5])\n",
    "print(train_df[\"text\"].loc[pos_idx].iloc[10])\n",
    "print(train_df[\"text\"].loc[pos_idx].iloc[115])\n",
    "print(train_df[\"text\"].loc[pos_idx].iloc[1110])\n",
    "print(train_df[\"text\"].loc[pos_idx].iloc[1210])"
   ]
  },
  {
   "cell_type": "markdown",
   "metadata": {},
   "source": [
    "## 3.4 NaN\n",
    "\n",
    "There are no NaN in `text` of train and test. 30% of `location` is NaN in text and target. "
   ]
  },
  {
   "cell_type": "code",
   "execution_count": 12,
   "metadata": {
    "execution": {
     "iopub.execute_input": "2023-05-06T07:57:10.035920Z",
     "iopub.status.busy": "2023-05-06T07:57:10.034931Z",
     "iopub.status.idle": "2023-05-06T07:57:10.047397Z",
     "shell.execute_reply": "2023-05-06T07:57:10.046020Z",
     "shell.execute_reply.started": "2023-05-06T07:57:10.035882Z"
    }
   },
   "outputs": [
    {
     "data": {
      "text/plain": [
       "id          0.000000\n",
       "keyword     0.008013\n",
       "location    0.332720\n",
       "text        0.000000\n",
       "target      0.000000\n",
       "dtype: float64"
      ]
     },
     "execution_count": 12,
     "metadata": {},
     "output_type": "execute_result"
    }
   ],
   "source": [
    "train_df.isna().mean()"
   ]
  },
  {
   "cell_type": "code",
   "execution_count": 13,
   "metadata": {
    "execution": {
     "iopub.execute_input": "2023-05-06T07:57:10.049320Z",
     "iopub.status.busy": "2023-05-06T07:57:10.048985Z",
     "iopub.status.idle": "2023-05-06T07:57:10.060158Z",
     "shell.execute_reply": "2023-05-06T07:57:10.058611Z",
     "shell.execute_reply.started": "2023-05-06T07:57:10.049287Z"
    }
   },
   "outputs": [
    {
     "data": {
      "text/plain": [
       "id          0.000000\n",
       "keyword     0.007968\n",
       "location    0.338645\n",
       "text        0.000000\n",
       "dtype: float64"
      ]
     },
     "execution_count": 13,
     "metadata": {},
     "output_type": "execute_result"
    }
   ],
   "source": [
    "test_df.isna().mean()"
   ]
  },
  {
   "cell_type": "markdown",
   "metadata": {},
   "source": [
    "**fill NaN**\n",
    "\n",
    "not usef for ML"
   ]
  },
  {
   "cell_type": "code",
   "execution_count": 14,
   "metadata": {
    "execution": {
     "iopub.execute_input": "2023-05-06T07:57:10.062134Z",
     "iopub.status.busy": "2023-05-06T07:57:10.061764Z",
     "iopub.status.idle": "2023-05-06T07:57:10.078483Z",
     "shell.execute_reply": "2023-05-06T07:57:10.077433Z",
     "shell.execute_reply.started": "2023-05-06T07:57:10.062099Z"
    }
   },
   "outputs": [],
   "source": [
    "filter1 = train_df[\"keyword\"].isna()\n",
    "train_df.loc[filter1, \"keyword\"] = \"None\"\n",
    "\n",
    "filter1 = test_df[\"keyword\"].isna()\n",
    "test_df.loc[filter1, \"keyword\"] = \"None\"\n",
    "\n",
    "filter1 = train_df[\"location\"].isna()\n",
    "train_df.loc[filter1, \"location\"] = \"None\"\n",
    "\n",
    "filter1 = test_df[\"location\"].isna()\n",
    "test_df.loc[filter1, \"location\"] = \"None\""
   ]
  },
  {
   "cell_type": "markdown",
   "metadata": {},
   "source": [
    "## Conclusion of EDA\n",
    "\n",
    "The label is slightly umbalanced, so **class weights** must be defined for ML. There are NaN in `location` and `keyword`, but these columns will not be used in ML, because I would like to achieve my goal by RNN without additional information. "
   ]
  },
  {
   "cell_type": "markdown",
   "metadata": {},
   "source": [
    "# 4. Data Cleaning by NLTK\n",
    "\n",
    "## Tokenize\n",
    "Text needs to be split to use RNN. `nltk.word_tokenize` can split sentence by space and symbols. "
   ]
  },
  {
   "cell_type": "code",
   "execution_count": 15,
   "metadata": {
    "execution": {
     "iopub.execute_input": "2023-05-06T07:57:10.080389Z",
     "iopub.status.busy": "2023-05-06T07:57:10.079943Z",
     "iopub.status.idle": "2023-05-06T07:57:10.090741Z",
     "shell.execute_reply": "2023-05-06T07:57:10.089534Z",
     "shell.execute_reply.started": "2023-05-06T07:57:10.080344Z"
    }
   },
   "outputs": [],
   "source": [
    "text_df = pd.concat([train_df[\"text\"], test_df[\"text\"]]).reset_index()[\"text\"]"
   ]
  },
  {
   "cell_type": "code",
   "execution_count": 16,
   "metadata": {
    "execution": {
     "iopub.execute_input": "2023-05-06T07:57:10.092898Z",
     "iopub.status.busy": "2023-05-06T07:57:10.092220Z",
     "iopub.status.idle": "2023-05-06T07:57:12.468789Z",
     "shell.execute_reply": "2023-05-06T07:57:12.467582Z",
     "shell.execute_reply.started": "2023-05-06T07:57:10.092855Z"
    }
   },
   "outputs": [],
   "source": [
    "tokenized = text_df.str.lower().apply(lambda x: nltk.word_tokenize(x))"
   ]
  },
  {
   "cell_type": "markdown",
   "metadata": {},
   "source": [
    "**result of tokenize**\n",
    "\n",
    "Texts are split successfully, but it contains lots of unnecessary symbols. They shall be removed. "
   ]
  },
  {
   "cell_type": "code",
   "execution_count": 17,
   "metadata": {
    "execution": {
     "iopub.execute_input": "2023-05-06T07:57:12.470658Z",
     "iopub.status.busy": "2023-05-06T07:57:12.470280Z",
     "iopub.status.idle": "2023-05-06T07:57:12.477263Z",
     "shell.execute_reply": "2023-05-06T07:57:12.476185Z",
     "shell.execute_reply.started": "2023-05-06T07:57:12.470621Z"
    }
   },
   "outputs": [
    {
     "name": "stdout",
     "output_type": "stream",
     "text": [
      "Original text\n",
      "#RockyFire Update => California Hwy. 20 closed in both directions due to Lake County fire - #CAfire #wildfires\n",
      "Tokenized text\n",
      "['#', 'rockyfire', 'update', '=', '>', 'california', 'hwy', '.', '20', 'closed', 'in', 'both', 'directions', 'due', 'to', 'lake', 'county', 'fire', '-', '#', 'cafire', '#', 'wildfires']\n"
     ]
    }
   ],
   "source": [
    "print(\"Original text\")\n",
    "print(train_df[\"text\"].iloc[5])\n",
    "print(\"Tokenized text\")\n",
    "print(tokenized[5])"
   ]
  },
  {
   "cell_type": "markdown",
   "metadata": {},
   "source": [
    "## Stem\n",
    "\n",
    "Next step is to stem by `nltk.SnowballStemmer`. Stemmer can unify similar words, and it decreases number of unique words so that ML will be more efficient. In addition, stop words needs to be removed from tokenized texts. "
   ]
  },
  {
   "cell_type": "code",
   "execution_count": 18,
   "metadata": {
    "execution": {
     "iopub.execute_input": "2023-05-06T07:57:12.483300Z",
     "iopub.status.busy": "2023-05-06T07:57:12.482244Z",
     "iopub.status.idle": "2023-05-06T07:57:12.488758Z",
     "shell.execute_reply": "2023-05-06T07:57:12.487377Z",
     "shell.execute_reply.started": "2023-05-06T07:57:12.483257Z"
    }
   },
   "outputs": [],
   "source": [
    "stemmer = nltk.SnowballStemmer(\"english\")"
   ]
  },
  {
   "cell_type": "markdown",
   "metadata": {},
   "source": [
    "**Examples of Stem**\n",
    "\n",
    "Stem of 'disaster' and 'country'. "
   ]
  },
  {
   "cell_type": "code",
   "execution_count": 19,
   "metadata": {
    "execution": {
     "iopub.execute_input": "2023-05-06T07:57:12.493259Z",
     "iopub.status.busy": "2023-05-06T07:57:12.492672Z",
     "iopub.status.idle": "2023-05-06T07:57:12.500911Z",
     "shell.execute_reply": "2023-05-06T07:57:12.499522Z",
     "shell.execute_reply.started": "2023-05-06T07:57:12.493216Z"
    }
   },
   "outputs": [
    {
     "name": "stdout",
     "output_type": "stream",
     "text": [
      "disast\n",
      "disast\n",
      "disast\n"
     ]
    }
   ],
   "source": [
    "print(stemmer.stem(\"disaster\"))\n",
    "print(stemmer.stem(\"disasters\"))\n",
    "print(stemmer.stem(\"disaste\"))"
   ]
  },
  {
   "cell_type": "code",
   "execution_count": 20,
   "metadata": {
    "execution": {
     "iopub.execute_input": "2023-05-06T07:57:12.502893Z",
     "iopub.status.busy": "2023-05-06T07:57:12.502484Z",
     "iopub.status.idle": "2023-05-06T07:57:12.509604Z",
     "shell.execute_reply": "2023-05-06T07:57:12.508507Z",
     "shell.execute_reply.started": "2023-05-06T07:57:12.502820Z"
    }
   },
   "outputs": [
    {
     "name": "stdout",
     "output_type": "stream",
     "text": [
      "countri\n",
      "countri\n"
     ]
    }
   ],
   "source": [
    "print(stemmer.stem(\"countries\"))\n",
    "print(stemmer.stem(\"country\"))"
   ]
  },
  {
   "cell_type": "code",
   "execution_count": 21,
   "metadata": {
    "execution": {
     "iopub.execute_input": "2023-05-06T07:57:12.511066Z",
     "iopub.status.busy": "2023-05-06T07:57:12.510686Z",
     "iopub.status.idle": "2023-05-06T07:57:12.524354Z",
     "shell.execute_reply": "2023-05-06T07:57:12.523186Z",
     "shell.execute_reply.started": "2023-05-06T07:57:12.511022Z"
    }
   },
   "outputs": [],
   "source": [
    "stopwords = set(nltk.corpus.stopwords.words('english'))"
   ]
  },
  {
   "cell_type": "code",
   "execution_count": 22,
   "metadata": {
    "execution": {
     "iopub.execute_input": "2023-05-06T07:57:12.526201Z",
     "iopub.status.busy": "2023-05-06T07:57:12.525749Z",
     "iopub.status.idle": "2023-05-06T07:57:12.532233Z",
     "shell.execute_reply": "2023-05-06T07:57:12.530815Z",
     "shell.execute_reply.started": "2023-05-06T07:57:12.526168Z"
    }
   },
   "outputs": [],
   "source": [
    "def word_list_clean(word_list):\n",
    "    \n",
    "    output = []\n",
    "    for w in word_list:\n",
    "        if (w not in stopwords) and (w.isalpha()):\n",
    "            #w_convert = WNlemma.lemmatize(w)\n",
    "            w_convert = stemmer.stem(w)\n",
    "            output.append(w_convert)\n",
    "    \n",
    "    return output"
   ]
  },
  {
   "cell_type": "code",
   "execution_count": 23,
   "metadata": {
    "execution": {
     "iopub.execute_input": "2023-05-06T07:57:12.533914Z",
     "iopub.status.busy": "2023-05-06T07:57:12.533565Z",
     "iopub.status.idle": "2023-05-06T07:57:14.168716Z",
     "shell.execute_reply": "2023-05-06T07:57:14.167581Z",
     "shell.execute_reply.started": "2023-05-06T07:57:12.533879Z"
    }
   },
   "outputs": [],
   "source": [
    "tokenized_clean = tokenized.apply(lambda x: word_list_clean(x))"
   ]
  },
  {
   "cell_type": "code",
   "execution_count": 24,
   "metadata": {
    "execution": {
     "iopub.execute_input": "2023-05-06T07:57:14.170831Z",
     "iopub.status.busy": "2023-05-06T07:57:14.170441Z",
     "iopub.status.idle": "2023-05-06T07:57:14.176991Z",
     "shell.execute_reply": "2023-05-06T07:57:14.175723Z",
     "shell.execute_reply.started": "2023-05-06T07:57:14.170792Z"
    }
   },
   "outputs": [
    {
     "name": "stdout",
     "output_type": "stream",
     "text": [
      "Original text\n",
      "#RockyFire Update => California Hwy. 20 closed in both directions due to Lake County fire - #CAfire #wildfires\n",
      "Cleaned text\n",
      "['rockyfir', 'updat', 'california', 'hwi', 'close', 'direct', 'due', 'lake', 'counti', 'fire', 'cafir', 'wildfir']\n"
     ]
    }
   ],
   "source": [
    "print(\"Original text\")\n",
    "print(train_df[\"text\"].iloc[5])\n",
    "print(\"Cleaned text\")\n",
    "print(tokenized_clean[5])"
   ]
  },
  {
   "cell_type": "markdown",
   "metadata": {},
   "source": [
    "## Create Matrix\n",
    "\n",
    "The final step is to replace unique words with integers, and create matrix from tokenized list. "
   ]
  },
  {
   "cell_type": "code",
   "execution_count": 25,
   "metadata": {
    "execution": {
     "iopub.execute_input": "2023-05-06T07:57:14.178557Z",
     "iopub.status.busy": "2023-05-06T07:57:14.178164Z",
     "iopub.status.idle": "2023-05-06T07:57:14.198391Z",
     "shell.execute_reply": "2023-05-06T07:57:14.196975Z",
     "shell.execute_reply.started": "2023-05-06T07:57:14.178498Z"
    }
   },
   "outputs": [],
   "source": [
    "#original words : w_set\n",
    "w_list = []\n",
    "for WL in tokenized_clean:\n",
    "    w_list += WL  \n",
    "    \n",
    "w_set = set(w_list)"
   ]
  },
  {
   "cell_type": "code",
   "execution_count": 26,
   "metadata": {
    "execution": {
     "iopub.execute_input": "2023-05-06T07:57:14.200471Z",
     "iopub.status.busy": "2023-05-06T07:57:14.199711Z",
     "iopub.status.idle": "2023-05-06T07:57:14.216012Z",
     "shell.execute_reply": "2023-05-06T07:57:14.214746Z",
     "shell.execute_reply.started": "2023-05-06T07:57:14.200428Z"
    }
   },
   "outputs": [],
   "source": [
    "#w_dic: word -> integer\n",
    "#w_dic_inv: integer -> word (used for analysis)\n",
    "w_dic = {}\n",
    "w_dic_inv = {}\n",
    "count = 1\n",
    "for w in w_set:\n",
    "    w_dic[w] = count\n",
    "    w_dic_inv[count] = w\n",
    "    count += 1"
   ]
  },
  {
   "cell_type": "code",
   "execution_count": 27,
   "metadata": {
    "execution": {
     "iopub.execute_input": "2023-05-06T07:57:14.218088Z",
     "iopub.status.busy": "2023-05-06T07:57:14.217548Z",
     "iopub.status.idle": "2023-05-06T07:57:14.270809Z",
     "shell.execute_reply": "2023-05-06T07:57:14.269635Z",
     "shell.execute_reply.started": "2023-05-06T07:57:14.218046Z"
    }
   },
   "outputs": [],
   "source": [
    "#convert word into integer: w_num_list\n",
    "w_num_list = []\n",
    "for WL in tokenized_clean:\n",
    "    w_id_list = []\n",
    "    for w in WL:\n",
    "        w_id_list.append(w_dic[w])\n",
    "        \n",
    "    w_num_list.append(w_id_list)"
   ]
  },
  {
   "cell_type": "code",
   "execution_count": 28,
   "metadata": {
    "execution": {
     "iopub.execute_input": "2023-05-06T07:57:14.272516Z",
     "iopub.status.busy": "2023-05-06T07:57:14.272180Z",
     "iopub.status.idle": "2023-05-06T07:57:14.285425Z",
     "shell.execute_reply": "2023-05-06T07:57:14.284278Z",
     "shell.execute_reply.started": "2023-05-06T07:57:14.272483Z"
    }
   },
   "outputs": [
    {
     "data": {
      "text/plain": [
       "22"
      ]
     },
     "execution_count": 28,
     "metadata": {},
     "output_type": "execute_result"
    }
   ],
   "source": [
    "#check max length of list\n",
    "length_array = tokenized_clean.apply(lambda x: len(x)).to_numpy()\n",
    "max_L = np.max(length_array)\n",
    "max_L"
   ]
  },
  {
   "cell_type": "code",
   "execution_count": 29,
   "metadata": {
    "execution": {
     "iopub.execute_input": "2023-05-06T07:57:14.287525Z",
     "iopub.status.busy": "2023-05-06T07:57:14.287025Z",
     "iopub.status.idle": "2023-05-06T07:57:14.331734Z",
     "shell.execute_reply": "2023-05-06T07:57:14.330240Z",
     "shell.execute_reply.started": "2023-05-06T07:57:14.287491Z"
    }
   },
   "outputs": [],
   "source": [
    "#create matrix from list \n",
    "\n",
    "w_mat =  np.zeros((tokenized_clean.shape[0], max_L) ,dtype = int)\n",
    "\n",
    "for i in range(len(w_num_list)):\n",
    "    w_num_i = w_num_list[i]\n",
    "    for j in range(len(w_num_i)):\n",
    "        w_mat[i,j] = w_num_i[j]\n",
    "        \n",
    "w_max = w_mat.max()"
   ]
  },
  {
   "cell_type": "markdown",
   "metadata": {},
   "source": [
    "**Result**\n",
    "\n",
    "Tokenized texts are converted to integer matrix as follows. "
   ]
  },
  {
   "cell_type": "code",
   "execution_count": 30,
   "metadata": {
    "execution": {
     "iopub.execute_input": "2023-05-06T07:57:14.334087Z",
     "iopub.status.busy": "2023-05-06T07:57:14.333453Z",
     "iopub.status.idle": "2023-05-06T07:57:14.343648Z",
     "shell.execute_reply": "2023-05-06T07:57:14.342448Z",
     "shell.execute_reply.started": "2023-05-06T07:57:14.334033Z"
    }
   },
   "outputs": [
    {
     "data": {
      "text/plain": [
       "array([[ 5601,  5550, 10974, ...,     0,     0,     0],\n",
       "       [ 5304, 11289, 14161, ...,     0,     0,     0],\n",
       "       [  631,  8401, 10065, ...,     0,     0,     0],\n",
       "       ...,\n",
       "       [ 4395,  4415,  2889, ...,     0,     0,     0],\n",
       "       [12619,  8645,  8543, ...,     0,     0,     0],\n",
       "       [ 9638, 13907,  2375, ...,     0,     0,     0]])"
      ]
     },
     "execution_count": 30,
     "metadata": {},
     "output_type": "execute_result"
    }
   ],
   "source": [
    "w_mat"
   ]
  },
  {
   "cell_type": "markdown",
   "metadata": {},
   "source": [
    "max integer and max length are necessary for RNN. "
   ]
  },
  {
   "cell_type": "code",
   "execution_count": 31,
   "metadata": {
    "execution": {
     "iopub.execute_input": "2023-05-06T07:57:14.346210Z",
     "iopub.status.busy": "2023-05-06T07:57:14.345665Z",
     "iopub.status.idle": "2023-05-06T07:57:14.353364Z",
     "shell.execute_reply": "2023-05-06T07:57:14.352121Z",
     "shell.execute_reply.started": "2023-05-06T07:57:14.346158Z"
    }
   },
   "outputs": [
    {
     "name": "stdout",
     "output_type": "stream",
     "text": [
      "max integer is  14942\n",
      "max length of sentence is 22\n"
     ]
    }
   ],
   "source": [
    "print(\"max integer is \", w_max)\n",
    "print(\"max length of sentence is\", max_L)"
   ]
  },
  {
   "cell_type": "markdown",
   "metadata": {},
   "source": [
    "# 5. Model"
   ]
  },
  {
   "cell_type": "markdown",
   "metadata": {},
   "source": [
    "In this project three models are compared.\n",
    "\n",
    "**models**\n",
    "* **model1: SimpleRNN**\n",
    "* **model2: GRU**\n",
    "* **model3: GRU with 50% dropout**\n",
    "\n",
    "\n",
    "**common elements**\n",
    "\n",
    "Following elements are common in three models.\n",
    "\n",
    "* Embedding layer\n",
    "* Sigmoid output\n",
    "\n",
    "Embedding layer is learnable parameter. It will be latent feature of words in vector form. "
   ]
  },
  {
   "cell_type": "markdown",
   "metadata": {},
   "source": [
    "\n",
    "## 5.1 Split Data\n",
    "\n",
    "15% of trained data is selected randomly for validation set. "
   ]
  },
  {
   "cell_type": "code",
   "execution_count": 32,
   "metadata": {
    "execution": {
     "iopub.execute_input": "2023-05-06T07:57:14.357479Z",
     "iopub.status.busy": "2023-05-06T07:57:14.357049Z",
     "iopub.status.idle": "2023-05-06T07:57:14.363754Z",
     "shell.execute_reply": "2023-05-06T07:57:14.362421Z",
     "shell.execute_reply.started": "2023-05-06T07:57:14.357441Z"
    }
   },
   "outputs": [],
   "source": [
    "y_all = train_df[\"target\"].to_numpy()"
   ]
  },
  {
   "cell_type": "code",
   "execution_count": 33,
   "metadata": {
    "execution": {
     "iopub.execute_input": "2023-05-06T07:57:14.365640Z",
     "iopub.status.busy": "2023-05-06T07:57:14.365303Z",
     "iopub.status.idle": "2023-05-06T07:57:14.375472Z",
     "shell.execute_reply": "2023-05-06T07:57:14.374330Z",
     "shell.execute_reply.started": "2023-05-06T07:57:14.365608Z"
    }
   },
   "outputs": [],
   "source": [
    "train_idx_all = np.arange(n_train)\n",
    "\n",
    "np.random.seed(1)\n",
    "np.random.shuffle(train_idx_all)\n",
    "\n",
    "#set train size \n",
    "n_train2 = int(n_train*0.85)\n",
    "\n",
    "#select index from shuffled array\n",
    "train_idx = train_idx_all[:n_train2]\n",
    "val_idx = train_idx_all[n_train2:]\n",
    "\n",
    "#split matrix\n",
    "X_train = w_mat[train_idx,:]\n",
    "X_val = w_mat[val_idx,:]\n",
    "y_train = y_all[train_idx]\n",
    "y_val = y_all[val_idx]\n",
    "pos_weight = 0.5/np.mean(y_train)\n",
    "class_weights = {0:1, 1:pos_weight}"
   ]
  },
  {
   "cell_type": "code",
   "execution_count": 34,
   "metadata": {
    "execution": {
     "iopub.execute_input": "2023-05-06T07:57:14.377802Z",
     "iopub.status.busy": "2023-05-06T07:57:14.377356Z",
     "iopub.status.idle": "2023-05-06T07:57:14.386443Z",
     "shell.execute_reply": "2023-05-06T07:57:14.385143Z",
     "shell.execute_reply.started": "2023-05-06T07:57:14.377751Z"
    }
   },
   "outputs": [
    {
     "data": {
      "text/plain": [
       "(0.4457092819614711, 0.4268273837119456)"
      ]
     },
     "execution_count": 34,
     "metadata": {},
     "output_type": "execute_result"
    }
   ],
   "source": [
    "np.mean(y_val), np.mean(y_train)"
   ]
  },
  {
   "cell_type": "code",
   "execution_count": 35,
   "metadata": {
    "execution": {
     "iopub.execute_input": "2023-05-06T07:57:14.389075Z",
     "iopub.status.busy": "2023-05-06T07:57:14.388302Z",
     "iopub.status.idle": "2023-05-06T07:57:14.395546Z",
     "shell.execute_reply": "2023-05-06T07:57:14.394284Z",
     "shell.execute_reply.started": "2023-05-06T07:57:14.389026Z"
    }
   },
   "outputs": [],
   "source": [
    "X_test = w_mat[n_train:,:]"
   ]
  },
  {
   "cell_type": "markdown",
   "metadata": {},
   "source": [
    "## 5.2 Functions\n",
    "\n",
    "Predict function `pred_yhat`, and plot score function `plot_scores` are below."
   ]
  },
  {
   "cell_type": "code",
   "execution_count": 36,
   "metadata": {
    "execution": {
     "iopub.execute_input": "2023-05-06T07:57:14.403339Z",
     "iopub.status.busy": "2023-05-06T07:57:14.402934Z",
     "iopub.status.idle": "2023-05-06T07:57:14.408519Z",
     "shell.execute_reply": "2023-05-06T07:57:14.407474Z",
     "shell.execute_reply.started": "2023-05-06T07:57:14.403301Z"
    }
   },
   "outputs": [],
   "source": [
    "def pred_yhat(model, X):\n",
    "    #it returns prediction in integer (0 or 1)\n",
    "    yhat = model.predict(X)\n",
    "    yhat = (yhat > 0.5).astype(int)\n",
    "    return yhat"
   ]
  },
  {
   "cell_type": "code",
   "execution_count": 37,
   "metadata": {
    "execution": {
     "iopub.execute_input": "2023-05-06T07:57:14.410915Z",
     "iopub.status.busy": "2023-05-06T07:57:14.409926Z",
     "iopub.status.idle": "2023-05-06T07:57:14.421624Z",
     "shell.execute_reply": "2023-05-06T07:57:14.420616Z",
     "shell.execute_reply.started": "2023-05-06T07:57:14.410865Z"
    }
   },
   "outputs": [],
   "source": [
    "def plot_scores(history):\n",
    "    #it shows train and val accuracy and loss\n",
    "    fig, ax = plt.subplots(1,2, figsize = (12, 5))\n",
    "    ax[0].plot(history.history[\"accuracy\"], label = \"train\")\n",
    "    ax[0].plot(history.history[\"val_accuracy\"], label = \"val\")\n",
    "    ax[0].set_xlabel(\"epochs\")\n",
    "    ax[0].set_ylabel(\"accuracy\")\n",
    "    ax[0].set_ylim([0.7,1])\n",
    "    ax[0].set_title(\"Accuracy\")\n",
    "    ax[0].legend()\n",
    "\n",
    "    ax[1].plot(history.history[\"loss\"], label = \"train\")\n",
    "    ax[1].plot(history.history[\"val_loss\"], label = \"val\")\n",
    "    ax[1].set_xlabel(\"epochs\")\n",
    "    ax[1].set_ylabel(\"loss\")\n",
    "    ax[1].set_ylim([0,1])\n",
    "    ax[1].set_title(\"Loss\")\n",
    "    ax[1].legend()\n",
    "    \n",
    "    plt.show()"
   ]
  },
  {
   "cell_type": "markdown",
   "metadata": {},
   "source": [
    "## 5.3 Model1\n"
   ]
  },
  {
   "cell_type": "code",
   "execution_count": 38,
   "metadata": {
    "execution": {
     "iopub.execute_input": "2023-05-06T07:57:14.423280Z",
     "iopub.status.busy": "2023-05-06T07:57:14.422917Z",
     "iopub.status.idle": "2023-05-06T07:57:14.431919Z",
     "shell.execute_reply": "2023-05-06T07:57:14.430692Z",
     "shell.execute_reply.started": "2023-05-06T07:57:14.423245Z"
    }
   },
   "outputs": [],
   "source": [
    "def create_model1():\n",
    "    sentence_indices = layers.Input(shape=(max_L,))\n",
    "\n",
    "    X = layers.Embedding(w_max+1, 64, input_length=max_L)(sentence_indices)\n",
    "    X = layers.SimpleRNN(128, return_sequences=False,  kernel_initializer = glorot_uniform(seed=1))(X)\n",
    "    X = layers.Dense(1, activation = \"sigmoid\",  kernel_initializer = glorot_uniform(seed=1))(X)\n",
    "    model1 = models.Model(inputs  = sentence_indices, outputs = X)\n",
    "    model1.summary()\n",
    "    \n",
    "    return model1"
   ]
  },
  {
   "cell_type": "code",
   "execution_count": 39,
   "metadata": {
    "execution": {
     "iopub.execute_input": "2023-05-06T07:57:14.433801Z",
     "iopub.status.busy": "2023-05-06T07:57:14.433470Z",
     "iopub.status.idle": "2023-05-06T07:57:14.733458Z",
     "shell.execute_reply": "2023-05-06T07:57:14.732189Z",
     "shell.execute_reply.started": "2023-05-06T07:57:14.433770Z"
    }
   },
   "outputs": [
    {
     "name": "stdout",
     "output_type": "stream",
     "text": [
      "Model: \"model\"\n",
      "_________________________________________________________________\n",
      " Layer (type)                Output Shape              Param #   \n",
      "=================================================================\n",
      " input_1 (InputLayer)        [(None, 22)]              0         \n",
      "                                                                 \n",
      " embedding (Embedding)       (None, 22, 64)            956352    \n",
      "                                                                 \n",
      " simple_rnn (SimpleRNN)      (None, 128)               24704     \n",
      "                                                                 \n",
      " dense (Dense)               (None, 1)                 129       \n",
      "                                                                 \n",
      "=================================================================\n",
      "Total params: 981,185\n",
      "Trainable params: 981,185\n",
      "Non-trainable params: 0\n",
      "_________________________________________________________________\n"
     ]
    }
   ],
   "source": [
    "model1 = create_model1()"
   ]
  },
  {
   "cell_type": "code",
   "execution_count": 40,
   "metadata": {
    "execution": {
     "iopub.execute_input": "2023-05-06T07:57:14.735815Z",
     "iopub.status.busy": "2023-05-06T07:57:14.735267Z",
     "iopub.status.idle": "2023-05-06T07:57:14.758127Z",
     "shell.execute_reply": "2023-05-06T07:57:14.756843Z",
     "shell.execute_reply.started": "2023-05-06T07:57:14.735762Z"
    }
   },
   "outputs": [],
   "source": [
    "model1.compile(loss='binary_crossentropy',optimizer= \"adam\",metrics=['accuracy'])"
   ]
  },
  {
   "cell_type": "code",
   "execution_count": 41,
   "metadata": {
    "execution": {
     "iopub.execute_input": "2023-05-06T07:57:14.760011Z",
     "iopub.status.busy": "2023-05-06T07:57:14.759619Z",
     "iopub.status.idle": "2023-05-06T07:57:33.693364Z",
     "shell.execute_reply": "2023-05-06T07:57:33.692299Z",
     "shell.execute_reply.started": "2023-05-06T07:57:14.759966Z"
    }
   },
   "outputs": [
    {
     "name": "stdout",
     "output_type": "stream",
     "text": [
      "Epoch 1/10\n",
      "51/51 [==============================] - 4s 37ms/step - loss: 0.6084 - accuracy: 0.7116 - val_loss: 0.4700 - val_accuracy: 0.7925\n",
      "Epoch 2/10\n",
      "51/51 [==============================] - 2s 35ms/step - loss: 0.3183 - accuracy: 0.8883 - val_loss: 0.5138 - val_accuracy: 0.7688\n",
      "Epoch 3/10\n",
      "51/51 [==============================] - 2s 35ms/step - loss: 0.1629 - accuracy: 0.9524 - val_loss: 0.6028 - val_accuracy: 0.7688\n",
      "Epoch 4/10\n",
      "51/51 [==============================] - 2s 35ms/step - loss: 0.1004 - accuracy: 0.9700 - val_loss: 0.7381 - val_accuracy: 0.7452\n",
      "Epoch 5/10\n",
      "51/51 [==============================] - 2s 35ms/step - loss: 0.0786 - accuracy: 0.9753 - val_loss: 0.6645 - val_accuracy: 0.7802\n",
      "Epoch 6/10\n",
      "51/51 [==============================] - 2s 35ms/step - loss: 0.0666 - accuracy: 0.9768 - val_loss: 0.7214 - val_accuracy: 0.7636\n",
      "Epoch 7/10\n",
      "51/51 [==============================] - 1s 29ms/step - loss: 0.0593 - accuracy: 0.9768 - val_loss: 0.7732 - val_accuracy: 0.7382\n",
      "Epoch 8/10\n",
      "51/51 [==============================] - 2s 34ms/step - loss: 0.0565 - accuracy: 0.9793 - val_loss: 0.7290 - val_accuracy: 0.7452\n",
      "Epoch 9/10\n",
      "51/51 [==============================] - 1s 29ms/step - loss: 0.0475 - accuracy: 0.9801 - val_loss: 0.8057 - val_accuracy: 0.7592\n",
      "Epoch 10/10\n",
      "51/51 [==============================] - 1s 29ms/step - loss: 0.0487 - accuracy: 0.9807 - val_loss: 0.7567 - val_accuracy: 0.7172\n"
     ]
    }
   ],
   "source": [
    "history1 = model1.fit(X_train, y_train, epochs=10, batch_size = 128, validation_data = (X_val, y_val), class_weight=class_weights)"
   ]
  },
  {
   "cell_type": "code",
   "execution_count": 42,
   "metadata": {
    "execution": {
     "iopub.execute_input": "2023-05-06T07:57:33.695586Z",
     "iopub.status.busy": "2023-05-06T07:57:33.695003Z",
     "iopub.status.idle": "2023-05-06T07:57:34.048782Z",
     "shell.execute_reply": "2023-05-06T07:57:34.047360Z",
     "shell.execute_reply.started": "2023-05-06T07:57:33.695548Z"
    }
   },
   "outputs": [
    {
     "data": {
      "image/png": "[encoded data removed]",
      "text/plain": [
       "<Figure size 1200x500 with 2 Axes>"
      ]
     },
     "metadata": {},
     "output_type": "display_data"
    }
   ],
   "source": [
    "plot_scores(history1)"
   ]
  },
  {
   "cell_type": "markdown",
   "metadata": {},
   "source": [
    "## 5.4 Model2"
   ]
  },
  {
   "cell_type": "code",
   "execution_count": 43,
   "metadata": {
    "execution": {
     "iopub.execute_input": "2023-05-06T07:57:34.050568Z",
     "iopub.status.busy": "2023-05-06T07:57:34.050199Z",
     "iopub.status.idle": "2023-05-06T07:57:34.059376Z",
     "shell.execute_reply": "2023-05-06T07:57:34.057825Z",
     "shell.execute_reply.started": "2023-05-06T07:57:34.050530Z"
    }
   },
   "outputs": [],
   "source": [
    "def create_model2():\n",
    "    sentence_indices = layers.Input(shape=(max_L,))\n",
    "\n",
    "    X = layers.Embedding(w_max+1, 64, input_length=max_L)(sentence_indices)\n",
    "    X = layers.GRU(64*2, return_sequences=False,  kernel_initializer = glorot_uniform(seed=1))(X)\n",
    "    X = layers.Dense(1, activation = \"sigmoid\",  kernel_initializer = glorot_uniform(seed=1))(X)\n",
    "    model2 = models.Model(inputs  = sentence_indices, outputs = X)\n",
    "    model2.summary()\n",
    "    \n",
    "    return model2"
   ]
  },
  {
   "cell_type": "code",
   "execution_count": 44,
   "metadata": {
    "execution": {
     "iopub.execute_input": "2023-05-06T07:57:34.061388Z",
     "iopub.status.busy": "2023-05-06T07:57:34.060999Z",
     "iopub.status.idle": "2023-05-06T07:57:34.388725Z",
     "shell.execute_reply": "2023-05-06T07:57:34.387611Z",
     "shell.execute_reply.started": "2023-05-06T07:57:34.061319Z"
    }
   },
   "outputs": [
    {
     "name": "stdout",
     "output_type": "stream",
     "text": [
      "Model: \"model_1\"\n",
      "_________________________________________________________________\n",
      " Layer (type)                Output Shape              Param #   \n",
      "=================================================================\n",
      " input_2 (InputLayer)        [(None, 22)]              0         \n",
      "                                                                 \n",
      " embedding_1 (Embedding)     (None, 22, 64)            956352    \n",
      "                                                                 \n",
      " gru (GRU)                   (None, 128)               74496     \n",
      "                                                                 \n",
      " dense_1 (Dense)             (None, 1)                 129       \n",
      "                                                                 \n",
      "=================================================================\n",
      "Total params: 1,030,977\n",
      "Trainable params: 1,030,977\n",
      "Non-trainable params: 0\n",
      "_________________________________________________________________\n"
     ]
    }
   ],
   "source": [
    "model2 = create_model2()"
   ]
  },
  {
   "cell_type": "code",
   "execution_count": 45,
   "metadata": {
    "execution": {
     "iopub.execute_input": "2023-05-06T07:57:34.390325Z",
     "iopub.status.busy": "2023-05-06T07:57:34.390000Z",
     "iopub.status.idle": "2023-05-06T07:57:34.404550Z",
     "shell.execute_reply": "2023-05-06T07:57:34.403362Z",
     "shell.execute_reply.started": "2023-05-06T07:57:34.390293Z"
    }
   },
   "outputs": [],
   "source": [
    "model2.compile(loss='binary_crossentropy',optimizer= \"adam\",metrics=['accuracy'])"
   ]
  },
  {
   "cell_type": "code",
   "execution_count": 46,
   "metadata": {
    "execution": {
     "iopub.execute_input": "2023-05-06T07:57:34.406463Z",
     "iopub.status.busy": "2023-05-06T07:57:34.406037Z",
     "iopub.status.idle": "2023-05-06T07:58:18.029620Z",
     "shell.execute_reply": "2023-05-06T07:58:18.027889Z",
     "shell.execute_reply.started": "2023-05-06T07:57:34.406428Z"
    }
   },
   "outputs": [
    {
     "name": "stdout",
     "output_type": "stream",
     "text": [
      "Epoch 1/10\n",
      "51/51 [==============================] - 6s 57ms/step - loss: 0.7428 - accuracy: 0.5586 - val_loss: 0.6904 - val_accuracy: 0.5543\n",
      "Epoch 2/10\n",
      "51/51 [==============================] - 2s 47ms/step - loss: 0.7424 - accuracy: 0.5732 - val_loss: 0.6898 - val_accuracy: 0.5543\n",
      "Epoch 3/10\n",
      "51/51 [==============================] - 2s 46ms/step - loss: 0.5968 - accuracy: 0.7181 - val_loss: 0.4465 - val_accuracy: 0.7951\n",
      "Epoch 4/10\n",
      "51/51 [==============================] - 2s 46ms/step - loss: 0.3468 - accuracy: 0.8717 - val_loss: 0.4406 - val_accuracy: 0.8091\n",
      "Epoch 5/10\n",
      "51/51 [==============================] - 2s 46ms/step - loss: 0.2156 - accuracy: 0.9295 - val_loss: 0.5575 - val_accuracy: 0.7890\n",
      "Epoch 6/10\n",
      "51/51 [==============================] - 2s 46ms/step - loss: 0.1550 - accuracy: 0.9518 - val_loss: 0.6645 - val_accuracy: 0.7706\n",
      "Epoch 7/10\n",
      "51/51 [==============================] - 2s 45ms/step - loss: 0.1102 - accuracy: 0.9677 - val_loss: 0.6569 - val_accuracy: 0.7636\n",
      "Epoch 8/10\n",
      "51/51 [==============================] - 2s 47ms/step - loss: 0.0997 - accuracy: 0.9734 - val_loss: 0.8065 - val_accuracy: 0.7609\n",
      "Epoch 9/10\n",
      "51/51 [==============================] - 2s 46ms/step - loss: 0.0829 - accuracy: 0.9770 - val_loss: 0.6192 - val_accuracy: 0.7583\n",
      "Epoch 10/10\n",
      "51/51 [==============================] - 3s 50ms/step - loss: 0.0817 - accuracy: 0.9767 - val_loss: 0.7318 - val_accuracy: 0.7522\n"
     ]
    }
   ],
   "source": [
    "history2 = model2.fit(X_train, y_train, epochs=10, batch_size = 128, validation_data = (X_val, y_val), class_weight=class_weights)"
   ]
  },
  {
   "cell_type": "code",
   "execution_count": 47,
   "metadata": {
    "execution": {
     "iopub.execute_input": "2023-05-06T07:58:18.031963Z",
     "iopub.status.busy": "2023-05-06T07:58:18.031521Z",
     "iopub.status.idle": "2023-05-06T07:58:18.386800Z",
     "shell.execute_reply": "2023-05-06T07:58:18.384480Z",
     "shell.execute_reply.started": "2023-05-06T07:58:18.031874Z"
    }
   },
   "outputs": [
    {
     "data": {
      "image/png": "[encoded data removed]",
      "text/plain": [
       "<Figure size 1200x500 with 2 Axes>"
      ]
     },
     "metadata": {},
     "output_type": "display_data"
    }
   ],
   "source": [
    "plot_scores(history2)"
   ]
  },
  {
   "cell_type": "markdown",
   "metadata": {},
   "source": [
    "## 5.5 Model3"
   ]
  },
  {
   "cell_type": "code",
   "execution_count": 48,
   "metadata": {
    "execution": {
     "iopub.execute_input": "2023-05-06T07:58:18.388757Z",
     "iopub.status.busy": "2023-05-06T07:58:18.388338Z",
     "iopub.status.idle": "2023-05-06T07:58:18.397088Z",
     "shell.execute_reply": "2023-05-06T07:58:18.395728Z",
     "shell.execute_reply.started": "2023-05-06T07:58:18.388721Z"
    }
   },
   "outputs": [],
   "source": [
    "def create_model3():\n",
    "    sentence_indices = layers.Input(shape=(max_L,))\n",
    "\n",
    "    X = layers.Embedding(w_max+1, 64, input_length=max_L)(sentence_indices)\n",
    "    X = layers.GRU(64*2, return_sequences=False,  kernel_initializer = glorot_uniform(seed=1), dropout = 0.5, recurrent_dropout = 0.5)(X)\n",
    "\n",
    "    #X = layers.Dropout(0.5, seed = 1)(X)\n",
    "\n",
    "    X = layers.Dense(1, activation = \"sigmoid\",  kernel_initializer = glorot_uniform(seed=1))(X)\n",
    "    model3 = models.Model(inputs  = sentence_indices, outputs = X)\n",
    "    model3.summary()\n",
    "    \n",
    "    return model3"
   ]
  },
  {
   "cell_type": "code",
   "execution_count": 49,
   "metadata": {
    "execution": {
     "iopub.execute_input": "2023-05-06T07:58:18.398756Z",
     "iopub.status.busy": "2023-05-06T07:58:18.398428Z",
     "iopub.status.idle": "2023-05-06T07:58:18.632989Z",
     "shell.execute_reply": "2023-05-06T07:58:18.631514Z",
     "shell.execute_reply.started": "2023-05-06T07:58:18.398725Z"
    }
   },
   "outputs": [
    {
     "name": "stdout",
     "output_type": "stream",
     "text": [
      "Model: \"model_2\"\n",
      "_________________________________________________________________\n",
      " Layer (type)                Output Shape              Param #   \n",
      "=================================================================\n",
      " input_3 (InputLayer)        [(None, 22)]              0         \n",
      "                                                                 \n",
      " embedding_2 (Embedding)     (None, 22, 64)            956352    \n",
      "                                                                 \n",
      " gru_1 (GRU)                 (None, 128)               74496     \n",
      "                                                                 \n",
      " dense_2 (Dense)             (None, 1)                 129       \n",
      "                                                                 \n",
      "=================================================================\n",
      "Total params: 1,030,977\n",
      "Trainable params: 1,030,977\n",
      "Non-trainable params: 0\n",
      "_________________________________________________________________\n"
     ]
    }
   ],
   "source": [
    "model3 = create_model3()"
   ]
  },
  {
   "cell_type": "code",
   "execution_count": 50,
   "metadata": {
    "execution": {
     "iopub.execute_input": "2023-05-06T07:58:18.635460Z",
     "iopub.status.busy": "2023-05-06T07:58:18.635053Z",
     "iopub.status.idle": "2023-05-06T07:58:18.649619Z",
     "shell.execute_reply": "2023-05-06T07:58:18.647783Z",
     "shell.execute_reply.started": "2023-05-06T07:58:18.635419Z"
    }
   },
   "outputs": [],
   "source": [
    "model3.compile(loss='binary_crossentropy',optimizer= \"adam\",metrics=['accuracy'])"
   ]
  },
  {
   "cell_type": "code",
   "execution_count": 51,
   "metadata": {
    "execution": {
     "iopub.execute_input": "2023-05-06T07:58:18.651697Z",
     "iopub.status.busy": "2023-05-06T07:58:18.651318Z",
     "iopub.status.idle": "2023-05-06T07:58:59.601723Z",
     "shell.execute_reply": "2023-05-06T07:58:59.600439Z",
     "shell.execute_reply.started": "2023-05-06T07:58:18.651662Z"
    }
   },
   "outputs": [
    {
     "name": "stdout",
     "output_type": "stream",
     "text": [
      "Epoch 1/10\n",
      "51/51 [==============================] - 7s 81ms/step - loss: 0.7420 - accuracy: 0.5704 - val_loss: 0.6883 - val_accuracy: 0.5543\n",
      "Epoch 2/10\n",
      "51/51 [==============================] - 4s 73ms/step - loss: 0.6999 - accuracy: 0.6246 - val_loss: 0.4886 - val_accuracy: 0.7574\n",
      "Epoch 3/10\n",
      "51/51 [==============================] - 4s 78ms/step - loss: 0.4566 - accuracy: 0.8212 - val_loss: 0.4455 - val_accuracy: 0.8074\n",
      "Epoch 4/10\n",
      "51/51 [==============================] - 4s 72ms/step - loss: 0.3218 - accuracy: 0.8838 - val_loss: 0.4700 - val_accuracy: 0.7846\n",
      "Epoch 5/10\n",
      "51/51 [==============================] - 4s 73ms/step - loss: 0.2493 - accuracy: 0.9204 - val_loss: 0.4863 - val_accuracy: 0.7820\n",
      "Epoch 6/10\n",
      "51/51 [==============================] - 4s 72ms/step - loss: 0.1838 - accuracy: 0.9425 - val_loss: 0.5531 - val_accuracy: 0.7662\n",
      "Epoch 7/10\n",
      "51/51 [==============================] - 4s 72ms/step - loss: 0.1657 - accuracy: 0.9487 - val_loss: 0.5921 - val_accuracy: 0.7758\n",
      "Epoch 8/10\n",
      "51/51 [==============================] - 4s 73ms/step - loss: 0.1357 - accuracy: 0.9577 - val_loss: 0.6307 - val_accuracy: 0.7767\n",
      "Epoch 9/10\n",
      "51/51 [==============================] - 4s 71ms/step - loss: 0.1167 - accuracy: 0.9648 - val_loss: 0.6702 - val_accuracy: 0.7793\n",
      "Epoch 10/10\n",
      "51/51 [==============================] - 4s 72ms/step - loss: 0.1049 - accuracy: 0.9689 - val_loss: 0.6677 - val_accuracy: 0.7680\n"
     ]
    }
   ],
   "source": [
    "history3 = model3.fit(X_train, y_train, epochs=10, batch_size = 128, validation_data = (X_val, y_val), class_weight=class_weights)"
   ]
  },
  {
   "cell_type": "code",
   "execution_count": 52,
   "metadata": {
    "execution": {
     "iopub.execute_input": "2023-05-06T07:58:59.606618Z",
     "iopub.status.busy": "2023-05-06T07:58:59.605463Z",
     "iopub.status.idle": "2023-05-06T07:58:59.951781Z",
     "shell.execute_reply": "2023-05-06T07:58:59.950355Z",
     "shell.execute_reply.started": "2023-05-06T07:58:59.606557Z"
    }
   },
   "outputs": [
    {
     "data": {
      "image/png": "[encoded data removed]",
      "text/plain": [
       "<Figure size 1200x500 with 2 Axes>"
      ]
     },
     "metadata": {},
     "output_type": "display_data"
    }
   ],
   "source": [
    "plot_scores(history3)"
   ]
  },
  {
   "cell_type": "code",
   "execution_count": null,
   "metadata": {},
   "outputs": [],
   "source": []
  },
  {
   "cell_type": "markdown",
   "metadata": {},
   "source": [
    "## 5.6 Results\n",
    "\n",
    "According to validation result, the best model is **model 3 (GRU with 50% dropout)**, and the **best epoch = 3** for this model ."
   ]
  },
  {
   "cell_type": "code",
   "execution_count": 53,
   "metadata": {
    "execution": {
     "iopub.execute_input": "2023-05-06T07:58:59.954085Z",
     "iopub.status.busy": "2023-05-06T07:58:59.953607Z",
     "iopub.status.idle": "2023-05-06T07:59:00.348239Z",
     "shell.execute_reply": "2023-05-06T07:59:00.346868Z",
     "shell.execute_reply.started": "2023-05-06T07:58:59.954036Z"
    }
   },
   "outputs": [
    {
     "data": {
      "image/png": "[encoded data removed]",
      "text/plain": [
       "<Figure size 1200x500 with 2 Axes>"
      ]
     },
     "metadata": {},
     "output_type": "display_data"
    }
   ],
   "source": [
    "fig, ax = plt.subplots(1,2, figsize = (12, 5))\n",
    "ax[0].plot(history1.history[\"val_accuracy\"], label = \"model1\")\n",
    "ax[0].plot(history2.history[\"val_accuracy\"], label = \"model2\")\n",
    "ax[0].plot(history3.history[\"val_accuracy\"], label = \"model3\", lw = 2)\n",
    "ax[0].set_xlabel(\"epochs\")\n",
    "ax[0].set_ylabel(\"accuracy\")\n",
    "ax[0].set_ylim([0.7,0.9])\n",
    "ax[0].set_title(\"Val accuracy\")\n",
    "ax[0].legend()\n",
    "\n",
    "\n",
    "ax[1].plot(history1.history[\"val_loss\"], label = \"model1\")\n",
    "ax[1].plot(history2.history[\"val_loss\"], label = \"model2\")\n",
    "ax[1].plot(history3.history[\"val_loss\"], label = \"model3\", lw = 2)\n",
    "ax[1].set_xlabel(\"epochs\")\n",
    "ax[1].set_ylabel(\"loss\")\n",
    "ax[1].set_ylim([0,1])\n",
    "ax[1].set_title(\"Val loss\")\n",
    "ax[1].legend()\n",
    "\n",
    "plt.show()\n"
   ]
  },
  {
   "cell_type": "markdown",
   "metadata": {},
   "source": [
    "**Submission**\n",
    "\n",
    "Model 3 is created and trained with full data. It achieved Kaggle Score approx 0.8. "
   ]
  },
  {
   "cell_type": "code",
   "execution_count": 54,
   "metadata": {
    "execution": {
     "iopub.execute_input": "2023-05-06T07:59:00.350099Z",
     "iopub.status.busy": "2023-05-06T07:59:00.349632Z",
     "iopub.status.idle": "2023-05-06T07:59:00.580901Z",
     "shell.execute_reply": "2023-05-06T07:59:00.579666Z",
     "shell.execute_reply.started": "2023-05-06T07:59:00.350033Z"
    }
   },
   "outputs": [
    {
     "name": "stdout",
     "output_type": "stream",
     "text": [
      "Model: \"model_3\"\n",
      "_________________________________________________________________\n",
      " Layer (type)                Output Shape              Param #   \n",
      "=================================================================\n",
      " input_4 (InputLayer)        [(None, 22)]              0         \n",
      "                                                                 \n",
      " embedding_3 (Embedding)     (None, 22, 64)            956352    \n",
      "                                                                 \n",
      " gru_2 (GRU)                 (None, 128)               74496     \n",
      "                                                                 \n",
      " dense_3 (Dense)             (None, 1)                 129       \n",
      "                                                                 \n",
      "=================================================================\n",
      "Total params: 1,030,977\n",
      "Trainable params: 1,030,977\n",
      "Non-trainable params: 0\n",
      "_________________________________________________________________\n"
     ]
    }
   ],
   "source": [
    "model = create_model3()"
   ]
  },
  {
   "cell_type": "code",
   "execution_count": 55,
   "metadata": {
    "execution": {
     "iopub.execute_input": "2023-05-06T07:59:00.582725Z",
     "iopub.status.busy": "2023-05-06T07:59:00.582379Z",
     "iopub.status.idle": "2023-05-06T07:59:00.590542Z",
     "shell.execute_reply": "2023-05-06T07:59:00.589157Z",
     "shell.execute_reply.started": "2023-05-06T07:59:00.582693Z"
    }
   },
   "outputs": [
    {
     "data": {
      "text/plain": [
       "{0: 1, 1: 1.1637114032405993}"
      ]
     },
     "execution_count": 55,
     "metadata": {},
     "output_type": "execute_result"
    }
   ],
   "source": [
    "pos_weight1 = 0.5/np.mean(y_all)\n",
    "class_weights1 = {0:1, 1:pos_weight1}\n",
    "class_weights1"
   ]
  },
  {
   "cell_type": "code",
   "execution_count": 56,
   "metadata": {
    "execution": {
     "iopub.execute_input": "2023-05-06T07:59:00.592479Z",
     "iopub.status.busy": "2023-05-06T07:59:00.592112Z",
     "iopub.status.idle": "2023-05-06T07:59:00.607227Z",
     "shell.execute_reply": "2023-05-06T07:59:00.605728Z",
     "shell.execute_reply.started": "2023-05-06T07:59:00.592441Z"
    }
   },
   "outputs": [],
   "source": [
    "model.compile(loss='binary_crossentropy',optimizer= \"adam\",metrics=['accuracy'])"
   ]
  },
  {
   "cell_type": "code",
   "execution_count": 57,
   "metadata": {
    "execution": {
     "iopub.execute_input": "2023-05-06T07:59:00.609719Z",
     "iopub.status.busy": "2023-05-06T07:59:00.608873Z",
     "iopub.status.idle": "2023-05-06T07:59:16.541904Z",
     "shell.execute_reply": "2023-05-06T07:59:16.540556Z",
     "shell.execute_reply.started": "2023-05-06T07:59:00.609680Z"
    }
   },
   "outputs": [
    {
     "name": "stdout",
     "output_type": "stream",
     "text": [
      "Epoch 1/3\n",
      "60/60 [==============================] - 8s 74ms/step - loss: 0.7402 - accuracy: 0.5686\n",
      "Epoch 2/3\n",
      "60/60 [==============================] - 4s 67ms/step - loss: 0.6836 - accuracy: 0.6339\n",
      "Epoch 3/3\n",
      "60/60 [==============================] - 4s 68ms/step - loss: 0.4535 - accuracy: 0.8221\n"
     ]
    },
    {
     "data": {
      "text/plain": [
       "<keras.callbacks.History at 0x72d2f37d7750>"
      ]
     },
     "execution_count": 57,
     "metadata": {},
     "output_type": "execute_result"
    }
   ],
   "source": [
    "model.fit(w_mat[:n_train], y_all, epochs=3, batch_size = 128, class_weight=class_weights1)"
   ]
  },
  {
   "cell_type": "code",
   "execution_count": 58,
   "metadata": {
    "execution": {
     "iopub.execute_input": "2023-05-06T07:59:16.544465Z",
     "iopub.status.busy": "2023-05-06T07:59:16.544106Z",
     "iopub.status.idle": "2023-05-06T07:59:18.212589Z",
     "shell.execute_reply": "2023-05-06T07:59:18.211269Z",
     "shell.execute_reply.started": "2023-05-06T07:59:16.544432Z"
    }
   },
   "outputs": [
    {
     "name": "stdout",
     "output_type": "stream",
     "text": [
      "102/102 [==============================] - 1s 6ms/step\n"
     ]
    },
    {
     "data": {
      "text/plain": [
       "0.3536622739809991"
      ]
     },
     "execution_count": 58,
     "metadata": {},
     "output_type": "execute_result"
    }
   ],
   "source": [
    "yhat_test = pred_yhat(model, X_test)\n",
    "np.mean(yhat_test)"
   ]
  },
  {
   "cell_type": "code",
   "execution_count": 59,
   "metadata": {
    "execution": {
     "iopub.execute_input": "2023-05-06T07:59:18.214926Z",
     "iopub.status.busy": "2023-05-06T07:59:18.214115Z",
     "iopub.status.idle": "2023-05-06T07:59:18.230662Z",
     "shell.execute_reply": "2023-05-06T07:59:18.229578Z",
     "shell.execute_reply.started": "2023-05-06T07:59:18.214886Z"
    }
   },
   "outputs": [],
   "source": [
    "sample_df[\"target\"] = yhat_test\n",
    "sample_df.to_csv('submission.csv',index=False)"
   ]
  },
  {
   "cell_type": "markdown",
   "metadata": {},
   "source": [
    "# 6. Analysis: Checking similar words \n",
    "\n",
    "**Embedding layer** of the model represents latent feature of words in vector. If the model learned data properly, it may be possible to find similar words. In this chapter, words similar to `disaster` and `fire` are shown. Top 30 words are selected according to **Cosine Similarity**.  "
   ]
  },
  {
   "cell_type": "code",
   "execution_count": 60,
   "metadata": {
    "execution": {
     "iopub.execute_input": "2023-05-06T07:59:18.232910Z",
     "iopub.status.busy": "2023-05-06T07:59:18.232057Z",
     "iopub.status.idle": "2023-05-06T07:59:18.244400Z",
     "shell.execute_reply": "2023-05-06T07:59:18.242644Z",
     "shell.execute_reply.started": "2023-05-06T07:59:18.232866Z"
    }
   },
   "outputs": [],
   "source": [
    "emb_mat = model.layers[1].get_weights()[0]"
   ]
  },
  {
   "cell_type": "code",
   "execution_count": 61,
   "metadata": {
    "execution": {
     "iopub.execute_input": "2023-05-06T07:59:18.246422Z",
     "iopub.status.busy": "2023-05-06T07:59:18.246084Z",
     "iopub.status.idle": "2023-05-06T07:59:18.252585Z",
     "shell.execute_reply": "2023-05-06T07:59:18.251289Z",
     "shell.execute_reply.started": "2023-05-06T07:59:18.246390Z"
    }
   },
   "outputs": [],
   "source": [
    "abs_array =  np.sqrt(np.sum(np.square(emb_mat), axis = 1))"
   ]
  },
  {
   "cell_type": "code",
   "execution_count": 62,
   "metadata": {
    "execution": {
     "iopub.execute_input": "2023-05-06T07:59:18.254870Z",
     "iopub.status.busy": "2023-05-06T07:59:18.254074Z",
     "iopub.status.idle": "2023-05-06T07:59:18.263206Z",
     "shell.execute_reply": "2023-05-06T07:59:18.262027Z",
     "shell.execute_reply.started": "2023-05-06T07:59:18.254831Z"
    }
   },
   "outputs": [],
   "source": [
    "def similar_words(w_id, n = 30):\n",
    "    w_abs = np.sqrt(np.sum(np.square(emb_mat[w_id,:])))\n",
    "    divider =  w_abs*abs_array\n",
    "    \n",
    "    #Cos similarity\n",
    "    vals = np.matmul(emb_mat[w_id,:], emb_mat.T)/divider\n",
    "    \n",
    "    #Sort values \n",
    "    top = np.argsort(vals)[::-1][1:(n+1)]\n",
    "    \n",
    "    \n",
    "    #extract top words\n",
    "    top_words = []\n",
    "    for idx in top:\n",
    "        top_words.append(w_dic_inv[idx])\n",
    "        \n",
    "    return top_words"
   ]
  },
  {
   "cell_type": "markdown",
   "metadata": {},
   "source": [
    "### Words similar to `disaster`\n",
    "\n",
    "Most of words evoke disaster."
   ]
  },
  {
   "cell_type": "code",
   "execution_count": 63,
   "metadata": {
    "execution": {
     "iopub.execute_input": "2023-05-06T07:59:18.265057Z",
     "iopub.status.busy": "2023-05-06T07:59:18.264693Z",
     "iopub.status.idle": "2023-05-06T07:59:18.278420Z",
     "shell.execute_reply": "2023-05-06T07:59:18.276965Z",
     "shell.execute_reply.started": "2023-05-06T07:59:18.265023Z"
    }
   },
   "outputs": [
    {
     "name": "stdout",
     "output_type": "stream",
     "text": [
      "['california', 'wildfir', 'crew', 'bomb', 'murder', 'northern', 'memori', 'expert', 'victim', 'bridg', 'costlier', 'airplan', 'legionnair', 'disea', 'villag', 'hiroshima', 'pm', 'wmata', 'outbreak', 'train', 'toward', 'migrant', 'drought', 'trench', 'flood', 'island', 'stem', 'mosqu', 'cdt', 'found']\n"
     ]
    }
   ],
   "source": [
    "top_words2 = similar_words(w_dic[\"disast\"], 30)\n",
    "print(top_words2)"
   ]
  },
  {
   "cell_type": "markdown",
   "metadata": {},
   "source": [
    "### Words similar to `fire`\n",
    "\n",
    "Words closely related to fire are extracted. "
   ]
  },
  {
   "cell_type": "code",
   "execution_count": 64,
   "metadata": {
    "execution": {
     "iopub.execute_input": "2023-05-06T07:59:18.280998Z",
     "iopub.status.busy": "2023-05-06T07:59:18.280067Z",
     "iopub.status.idle": "2023-05-06T07:59:18.293228Z",
     "shell.execute_reply": "2023-05-06T07:59:18.291326Z",
     "shell.execute_reply.started": "2023-05-06T07:59:18.280924Z"
    }
   },
   "outputs": [
    {
     "name": "stdout",
     "output_type": "stream",
     "text": [
      "['migrant', 'hiroshima', 'debri', 'northern', 'crew', 'wildfir', 'villag', 'malaysia', 'bomb', 'turkey', 'shot', 'outrag', 'bestnaijamad', 'isra', 'spill', 'coach', 'visit', 'rescuer', 'evacu', 'passeng', 'outbreak', 'helicopt', 'hailstorm', 'crime', 'earthquak', 'central', 'trench', 'abc', 'expert', 'costlier']\n"
     ]
    }
   ],
   "source": [
    "top_words1 = similar_words(w_dic[\"fire\"], 30)\n",
    "print(top_words1)"
   ]
  },
  {
   "cell_type": "markdown",
   "metadata": {},
   "source": [
    "# 7. Conclusion\n",
    "\n",
    "\n",
    "**GRU has better accuracy than simple RNN**\n",
    "\n",
    "In this project, accuracy of GRU is about 2% higher than simple RNN. Simple RNN had strong overfit. Train accuracy goes high faster than GRU while val accuracy of simple RNN did not improve at all. Simple RNN with epoch 1 had 0.78 in Kaggle score whereas GRU (with drop out) had 0.8. \n",
    "\n",
    "**Regularization works well**\n",
    "\n",
    "50% drop out for GRU works well to mitigate overfit, but still it overfits as training repeated. Therefore, early stop at epoch 3 is selected. Then f1 score 0.8 is achieved. \n",
    "\n",
    "**Possible to visualize trained model**\n",
    "\n",
    "Embedded layer of trained model can extract words similar to specified word. It is evidence of proper training. It is possible to use pre-trained Embedded layer, but I did not use it for this project, because there are lots of miss-spelling in tweets. "
   ]
  },
  {
   "cell_type": "code",
   "execution_count": null,
   "metadata": {},
   "outputs": [],
   "source": []
  }
 ],
 "metadata": {
  "kernelspec": {
   "display_name": "Python 3 (ipykernel)",
   "language": "python",
   "name": "python3"
  },
  "language_info": {
   "codemirror_mode": {
    "name": "ipython",
    "version": 3
   },
   "file_extension": ".py",
   "mimetype": "text/x-python",
   "name": "python",
   "nbconvert_exporter": "python",
   "pygments_lexer": "ipython3",
   "version": "3.9.7"
  }
 },
 "nbformat": 4,
 "nbformat_minor": 4
}
